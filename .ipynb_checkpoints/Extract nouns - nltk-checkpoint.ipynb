{
 "cells": [
  {
   "cell_type": "code",
   "execution_count": 4,
   "id": "067aa8b8",
   "metadata": {},
   "outputs": [
    {
     "name": "stdout",
     "output_type": "stream",
     "text": [
      "['Perseids', 'years', 'comet', 'Swift-Tuttle', 'sun', 'years', 'August', 'Earth', 'cloud', 'comet', '’', 's', 'debris', 'field', '—', 'hundreds', 'years', 'consists', 'bits', 'ice', 'dust', 'comet', 'Earth', '’', 's', 'premier', 'meteor', 'showers', 'year']\n"
     ]
    }
   ],
   "source": [
    "import nltk\n",
    "text = 'The Perseids have been observed for at least 2,000 years and are associated with the comet Swift-Tuttle, which orbits the sun once every 133 years. Every August, the Earth passes through a cloud of the comet’s orbital debris. This debris field — mostly created hundreds of years ago — consists of bits of ice and dust shed from the comet which burn up in Earth’s atmosphere to create one of the premier meteor showers of the year.'\n",
    "tokenized = nltk.word_tokenize(text)\n",
    "nouns = [word for (word, pos) in nltk.pos_tag(tokenized) if(pos[:2] == 'NN')]\n",
    "print (nouns)"
   ]
  }
 ],
 "metadata": {
  "kernelspec": {
   "display_name": "Python 3 (ipykernel)",
   "language": "python",
   "name": "python3"
  },
  "language_info": {
   "codemirror_mode": {
    "name": "ipython",
    "version": 3
   },
   "file_extension": ".py",
   "mimetype": "text/x-python",
   "name": "python",
   "nbconvert_exporter": "python",
   "pygments_lexer": "ipython3",
   "version": "3.8.3"
  }
 },
 "nbformat": 4,
 "nbformat_minor": 5
}
