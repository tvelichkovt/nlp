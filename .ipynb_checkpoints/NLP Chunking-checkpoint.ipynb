{
 "cells": [
  {
   "cell_type": "code",
   "execution_count": 5,
   "metadata": {},
   "outputs": [
    {
     "name": "stdout",
     "output_type": "stream",
     "text": [
      "[('The', 'DT'), ('Starship', 'NNP'), ('system', 'NN'), ('is', 'VBZ'), ('a', 'DT'), ('fully', 'RB'), ('reusable', 'JJ'), ('.', '.'), ('Two-stage-to-orbit', 'JJ'), ('super', 'JJ'), ('heavy-lift', 'NN'), ('launch', 'NN'), ('vehicle', 'NN'), ('under', 'IN'), ('development', 'NN'), ('by', 'IN'), ('SpaceX', 'NNP'), ('and', 'CC'), ('as', 'IN'), ('of', 'IN'), ('2021', 'CD'), ('.', '.'), ('It', 'PRP'), ('is', 'VBZ'), ('the', 'DT'), ('tallest', 'NN'), ('rocket', 'NN'), ('ever', 'RB'), ('built', 'VBN'), (',', ','), ('surpassing', 'VBG'), ('the', 'DT'), ('Saturn', 'NNP'), ('V', 'NNP')]\n",
      "(S\n",
      "  The/DT\n",
      "  (Starship Starship/NNP system/NN is/VBZ)\n",
      "  a/DT\n",
      "  fully/RB\n",
      "  reusable/JJ\n",
      "  ./.\n",
      "  Two-stage-to-orbit/JJ\n",
      "  super/JJ\n",
      "  (Starship heavy-lift/NN launch/NN vehicle/NN)\n",
      "  under/IN\n",
      "  (Starship development/NN)\n",
      "  by/IN\n",
      "  (Starship SpaceX/NNP)\n",
      "  and/CC\n",
      "  as/IN\n",
      "  of/IN\n",
      "  2021/CD\n",
      "  ./.\n",
      "  It/PRP\n",
      "  (Starship is/VBZ)\n",
      "  the/DT\n",
      "  (Starship tallest/NN rocket/NN)\n",
      "  ever/RB\n",
      "  (Starship built/VBN)\n",
      "  ,/,\n",
      "  (Starship surpassing/VBG)\n",
      "  the/DT\n",
      "  (Starship Saturn/NNP V/NNP))\n"
     ]
    }
   ],
   "source": [
    "import nltk\n",
    "from nltk.tokenize import word_tokenize\n",
    "\n",
    "# POS tagging\n",
    "sent = \"The Starship system is a fully reusable. Two-stage-to-orbit super heavy-lift launch vehicle under development by SpaceX and as of 2021. It is the tallest rocket ever built, surpassing the Saturn V\"\n",
    "\n",
    "print(nltk.pos_tag(word_tokenize(sent)))\n",
    "\n",
    "# creating a regular expression for chunking verbs and nouns\n",
    "chunkRule = r\"\"\"Starship: {<NN.?>*<NNS.?>*<NNP.?>*<NNPS.?>*<VB.?>*<VBD.?>*<VBG.?>*<VBN.?>*<VBP.?>*<VBZ.?>*}\"\"\"\n",
    "\n",
    "My_parser = nltk.RegexpParser(chunkRule)\n",
    "chunked = My_parser.parse(nltk.pos_tag(word_tokenize(sent)))\n",
    "\n",
    "print(chunked)"
   ]
  },
  {
   "cell_type": "code",
   "execution_count": 6,
   "metadata": {},
   "outputs": [
    {
     "name": "stdout",
     "output_type": "stream",
     "text": [
      "(S\n",
      "  The/DT\n",
      "  (Starship Starship/NNP system/NN is/VBZ)\n",
      "  a/DT\n",
      "  fully/RB\n",
      "  reusable/JJ\n",
      "  ./.\n",
      "  Two-stage-to-orbit/JJ\n",
      "  super/JJ\n",
      "  (Starship heavy-lift/NN launch/NN vehicle/NN)\n",
      "  under/IN\n",
      "  (Starship development/NN)\n",
      "  by/IN\n",
      "  (Starship SpaceX/NNP)\n",
      "  and/CC\n",
      "  as/IN\n",
      "  of/IN\n",
      "  2021/CD\n",
      "  ./.\n",
      "  It/PRP\n",
      "  (Starship is/VBZ)\n",
      "  the/DT\n",
      "  (Starship tallest/NN rocket/NN)\n",
      "  ever/RB\n",
      "  (Starship built/VBN)\n",
      "  ,/,\n",
      "  (Starship surpassing/VBG)\n",
      "  the/DT\n",
      "  (Starship Saturn/NNP V/NNP))\n"
     ]
    }
   ],
   "source": [
    "My_parser = nltk.RegexpParser(chunkRule)\n",
    "chunked = My_parser.parse(nltk.pos_tag(word_tokenize(sent)))\n",
    "\n",
    "# draw the tree\n",
    "chunked.draw()\n",
    "print(chunked)"
   ]
  }
 ],
 "metadata": {
  "kernelspec": {
   "display_name": "Python 3",
   "language": "python",
   "name": "python3"
  },
  "language_info": {
   "codemirror_mode": {
    "name": "ipython",
    "version": 3
   },
   "file_extension": ".py",
   "mimetype": "text/x-python",
   "name": "python",
   "nbconvert_exporter": "python",
   "pygments_lexer": "ipython3",
   "version": "3.7.6"
  },
  "varInspector": {
   "cols": {
    "lenName": 16,
    "lenType": 16,
    "lenVar": 40
   },
   "kernels_config": {
    "python": {
     "delete_cmd_postfix": "",
     "delete_cmd_prefix": "del ",
     "library": "var_list.py",
     "varRefreshCmd": "print(var_dic_list())"
    },
    "r": {
     "delete_cmd_postfix": ") ",
     "delete_cmd_prefix": "rm(",
     "library": "var_list.r",
     "varRefreshCmd": "cat(var_dic_list()) "
    }
   },
   "types_to_exclude": [
    "module",
    "function",
    "builtin_function_or_method",
    "instance",
    "_Feature"
   ],
   "window_display": false
  }
 },
 "nbformat": 4,
 "nbformat_minor": 4
}
