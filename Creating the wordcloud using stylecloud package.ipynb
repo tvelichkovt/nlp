{
 "cells": [
  {
   "cell_type": "code",
   "execution_count": 24,
   "metadata": {},
   "outputs": [],
   "source": [
    "import stylecloud\n",
    "\n",
    "stylecloud_simple = stylecloud.gen_stylecloud(file_path='The Autobiography of Benjamin Franklin.txt')"
   ]
  },
  {
   "cell_type": "code",
   "execution_count": 25,
   "metadata": {},
   "outputs": [],
   "source": [
    "stylecloud_dog = stylecloud.gen_stylecloud(file_path='The Autobiography of Benjamin Franklin.txt',\n",
    "                          icon_name='fas fa-dog',\n",
    "                          palette='colorbrewer.diverging.Spectral_11',\n",
    "                          background_color='black',\n",
    "                          gradient='horizontal')"
   ]
  },
  {
   "cell_type": "code",
   "execution_count": 20,
   "metadata": {},
   "outputs": [],
   "source": [
    "stylecloud_apple = stylecloud.gen_stylecloud(file_path='Alice Adventures in Wonderland.txt',\n",
    "                          icon_name= \"fas fa-apple-alt\")"
   ]
  },
  {
   "cell_type": "code",
   "execution_count": 21,
   "metadata": {},
   "outputs": [],
   "source": [
    "stylecloud_dog = stylecloud.gen_stylecloud(file_path='Alice Adventures in Wonderland.txt',\n",
    "                          icon_name='fas fa-dog',\n",
    "                          palette='colorbrewer.diverging.Spectral_11',\n",
    "                          background_color='black',\n",
    "                          gradient='horizontal')"
   ]
  },
  {
   "cell_type": "code",
   "execution_count": 32,
   "metadata": {},
   "outputs": [],
   "source": [
    "stylecloud_book = stylecloud.gen_stylecloud(\n",
    "                          file_path='Alice Adventures in Wonderland.txt',\n",
    "                          size = 1028,                         \n",
    "                          icon_name = \"fas fa-book-reader\",\n",
    "                          palette='colorbrewer.sequential.Blues_5',\n",
    "                          background_color ='white')"
   ]
  },
  {
   "cell_type": "code",
   "execution_count": 33,
   "metadata": {},
   "outputs": [],
   "source": [
    "stylecloud_leaf = stylecloud.gen_stylecloud(\n",
    "                         file_path='Alice Adventures in Wonderland.txt',\n",
    "                         icon_name = \"fas fa-leaf\",\n",
    "                         size =1028,\n",
    "                         palette=\"colorbrewer.sequential.YlGn_3\",\n",
    "                         background_color =\"white\")"
   ]
  }
 ],
 "metadata": {
  "kernelspec": {
   "display_name": "Python 3",
   "language": "python",
   "name": "python3"
  },
  "language_info": {
   "codemirror_mode": {
    "name": "ipython",
    "version": 3
   },
   "file_extension": ".py",
   "mimetype": "text/x-python",
   "name": "python",
   "nbconvert_exporter": "python",
   "pygments_lexer": "ipython3",
   "version": "3.7.6"
  },
  "varInspector": {
   "cols": {
    "lenName": 16,
    "lenType": 16,
    "lenVar": 40
   },
   "kernels_config": {
    "python": {
     "delete_cmd_postfix": "",
     "delete_cmd_prefix": "del ",
     "library": "var_list.py",
     "varRefreshCmd": "print(var_dic_list())"
    },
    "r": {
     "delete_cmd_postfix": ") ",
     "delete_cmd_prefix": "rm(",
     "library": "var_list.r",
     "varRefreshCmd": "cat(var_dic_list()) "
    }
   },
   "types_to_exclude": [
    "module",
    "function",
    "builtin_function_or_method",
    "instance",
    "_Feature"
   ],
   "window_display": false
  }
 },
 "nbformat": 4,
 "nbformat_minor": 4
}
