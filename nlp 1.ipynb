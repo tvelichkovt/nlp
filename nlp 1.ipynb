{
 "cells": [
  {
   "cell_type": "code",
   "execution_count": 1,
   "metadata": {},
   "outputs": [],
   "source": [
    "from multi_rake import Rake\n",
    "\n",
    "text_en = (\n",
    "    'Compatibility of systems of linear constraints over the set of '\n",
    "    'natural numbers. Criteria of compatibility of a system of linear '\n",
    "    'Diophantine equations, strict inequations, and nonstrict inequations '\n",
    "    'are considered. Upper bounds for components of a minimal set of '\n",
    "    'solutions and algorithms of construction of minimal generating sets '\n",
    "    'of solutions for all types of systems are given. These criteria and '\n",
    "    'the corresponding algorithms for constructing a minimal supporting '\n",
    "    'set of solutions can be used in solving all the considered types of '\n",
    "    'systems and systems of mixed types.'\n",
    ")"
   ]
  },
  {
   "cell_type": "code",
   "execution_count": 2,
   "metadata": {},
   "outputs": [
    {
     "name": "stdout",
     "output_type": "stream",
     "text": [
      "[('minimal generating sets', 8.666666666666666), ('linear diophantine equations', 8.5), ('minimal supporting set', 7.666666666666666), ('minimal set', 4.666666666666666), ('linear constraints', 4.5), ('natural numbers', 4.0), ('strict inequations', 4.0), ('nonstrict inequations', 4.0), ('upper bounds', 4.0), ('mixed types', 3.666666666666667)]\n"
     ]
    }
   ],
   "source": [
    "rake = Rake()\n",
    "\n",
    "keywords = rake.apply(text_en)\n",
    "\n",
    "print(keywords[:10])"
   ]
  },
  {
   "cell_type": "code",
   "execution_count": 8,
   "metadata": {},
   "outputs": [
    {
     "name": "stdout",
     "output_type": "stream",
     "text": [
      "['and', 'document', 'first', 'is', 'one', 'second', 'the', 'third', 'this']\n"
     ]
    }
   ],
   "source": [
    "from sklearn.feature_extraction.text import TfidfVectorizer\n",
    "corpus = [\n",
    "    'This is the first document.',\n",
    "    'This document is the second document.',\n",
    "    'And this is the third one.',\n",
    "    'Is this the first document?',\n",
    "]\n",
    "vectorizer = TfidfVectorizer()\n",
    "X = vectorizer.fit_transform(corpus)\n",
    "print(vectorizer.get_feature_names())"
   ]
  },
  {
   "cell_type": "code",
   "execution_count": 3,
   "metadata": {},
   "outputs": [
    {
     "name": "stdout",
     "output_type": "stream",
     "text": [
      "['lines', 'string', 'words']\n"
     ]
    }
   ],
   "source": [
    "import nltk\n",
    "lines = 'lines is some string of words'\n",
    "tokenized = nltk.word_tokenize(lines)\n",
    "nouns = [word for (word, pos) in nltk.pos_tag(tokenized) if(pos[:2] == 'NN')]\n",
    "print (nouns)"
   ]
  },
  {
   "cell_type": "code",
   "execution_count": null,
   "metadata": {},
   "outputs": [],
   "source": [
    "# https://towardsdatascience.com/text-analysis-feature-engineering-with-nlp-502d6ea9225d"
   ]
  },
  {
   "cell_type": "code",
   "execution_count": 18,
   "metadata": {},
   "outputs": [],
   "source": [
    "## for data\n",
    "import pandas as pd\n",
    "import collections\n",
    "import json ## for plotting\n",
    "import matplotlib.pyplot as plt\n",
    "import seaborn as sns\n",
    "import wordcloud ## for text processing\n",
    "import re\n",
    "import nltk ## for language detection\n",
    "import langdetect ## for sentiment\n",
    "from textblob import TextBlob## for ner\n",
    "import spacy ## for vectorizer\n",
    "from sklearn import feature_extraction, manifold ## for word embedding\n",
    "import gensim.downloader as gensim_api ## for topic modeling\n",
    "import gensim"
   ]
  },
  {
   "cell_type": "code",
   "execution_count": 20,
   "metadata": {},
   "outputs": [
    {
     "data": {
      "text/plain": [
       "{'category': 'CRIME',\n",
       " 'headline': 'There Were 2 Mass Shootings In Texas Last Week, But Only 1 On TV',\n",
       " 'authors': 'Melissa Jeltsen',\n",
       " 'link': 'https://www.huffingtonpost.com/entry/texas-amanda-painter-mass-shooting_us_5b081ab4e4b0802d69caad89',\n",
       " 'short_description': 'She left her husband. He killed their children. Just another day in America.',\n",
       " 'date': '2018-05-26'}"
      ]
     },
     "execution_count": 20,
     "metadata": {},
     "output_type": "execute_result"
    }
   ],
   "source": [
    "lst_dics = []\n",
    "with open('data.json', mode='r', errors='ignore') as json_file:\n",
    "    for dic in json_file:\n",
    "        lst_dics.append( json.loads(dic) )## print the first one      \n",
    "lst_dics[0]"
   ]
  },
  {
   "cell_type": "code",
   "execution_count": 21,
   "metadata": {},
   "outputs": [
    {
     "data": {
      "text/html": [
       "<div>\n",
       "<style scoped>\n",
       "    .dataframe tbody tr th:only-of-type {\n",
       "        vertical-align: middle;\n",
       "    }\n",
       "\n",
       "    .dataframe tbody tr th {\n",
       "        vertical-align: top;\n",
       "    }\n",
       "\n",
       "    .dataframe thead th {\n",
       "        text-align: right;\n",
       "    }\n",
       "</style>\n",
       "<table border=\"1\" class=\"dataframe\">\n",
       "  <thead>\n",
       "    <tr style=\"text-align: right;\">\n",
       "      <th></th>\n",
       "      <th>y</th>\n",
       "      <th>text</th>\n",
       "    </tr>\n",
       "  </thead>\n",
       "  <tbody>\n",
       "    <tr>\n",
       "      <th>61893</th>\n",
       "      <td>POLITICS</td>\n",
       "      <td>Hillary and Bill and Paul Krugman Race to the ...</td>\n",
       "    </tr>\n",
       "    <tr>\n",
       "      <th>13</th>\n",
       "      <td>POLITICS</td>\n",
       "      <td>Trump's Crackdown On Immigrant Parents Puts Mo...</td>\n",
       "    </tr>\n",
       "    <tr>\n",
       "      <th>198274</th>\n",
       "      <td>ENTERTAINMENT</td>\n",
       "      <td>Chris Brown And Rihanna Offend, 'Wanderlust' H...</td>\n",
       "    </tr>\n",
       "    <tr>\n",
       "      <th>45743</th>\n",
       "      <td>POLITICS</td>\n",
       "      <td>GOP Congressman Has A Wish List Of Trump Alter...</td>\n",
       "    </tr>\n",
       "    <tr>\n",
       "      <th>86022</th>\n",
       "      <td>ENTERTAINMENT</td>\n",
       "      <td>President Obama Got Confirmation Jon Snow Is R...</td>\n",
       "    </tr>\n",
       "  </tbody>\n",
       "</table>\n",
       "</div>"
      ],
      "text/plain": [
       "                    y                                               text\n",
       "61893        POLITICS  Hillary and Bill and Paul Krugman Race to the ...\n",
       "13           POLITICS  Trump's Crackdown On Immigrant Parents Puts Mo...\n",
       "198274  ENTERTAINMENT  Chris Brown And Rihanna Offend, 'Wanderlust' H...\n",
       "45743        POLITICS  GOP Congressman Has A Wish List Of Trump Alter...\n",
       "86022   ENTERTAINMENT  President Obama Got Confirmation Jon Snow Is R..."
      ]
     },
     "execution_count": 21,
     "metadata": {},
     "output_type": "execute_result"
    }
   ],
   "source": [
    "## create dtf\n",
    "dtf = pd.DataFrame(lst_dics)## filter categories\n",
    "dtf = dtf[ dtf[\"category\"].isin(['ENTERTAINMENT','POLITICS','TECH']) ][[\"category\",\"headline\"]]## rename columns\n",
    "dtf = dtf.rename(columns={\"category\":\"y\", \"headline\":\"text\"})## print 5 random rows\n",
    "dtf.sample(5)"
   ]
  },
  {
   "cell_type": "code",
   "execution_count": 24,
   "metadata": {},
   "outputs": [
    {
     "data": {
      "image/png": "[encoded data removed]",
      "text/plain": [
       "<Figure size 432x288 with 1 Axes>"
      ]
     },
     "metadata": {
      "needs_background": "light"
     },
     "output_type": "display_data"
    }
   ],
   "source": [
    "x = \"y\" \n",
    "\n",
    "fig, ax = plt.subplots()\n",
    "fig.suptitle(x, fontsize=12)\n",
    "dtf[x].reset_index().groupby(x).count().sort_values(by= \n",
    "       \"index\").plot(kind=\"barh\", legend=False, \n",
    "        ax=ax).grid(axis='x')\n",
    "plt.show()"
   ]
  },
  {
   "cell_type": "code",
   "execution_count": 26,
   "metadata": {},
   "outputs": [
    {
     "name": "stdout",
     "output_type": "stream",
     "text": [
      "Will Smith Joins Diplo And Nicky Jam For The 2018 World Cup's Official Song  -->  en\n"
     ]
    }
   ],
   "source": [
    "txt = dtf[\"text\"].iloc[0]\n",
    "\n",
    "print(txt, \" --> \", langdetect.detect(txt))"
   ]
  },
  {
   "cell_type": "code",
   "execution_count": 28,
   "metadata": {},
   "outputs": [
    {
     "data": {
      "text/html": [
       "<div>\n",
       "<style scoped>\n",
       "    .dataframe tbody tr th:only-of-type {\n",
       "        vertical-align: middle;\n",
       "    }\n",
       "\n",
       "    .dataframe tbody tr th {\n",
       "        vertical-align: top;\n",
       "    }\n",
       "\n",
       "    .dataframe thead th {\n",
       "        text-align: right;\n",
       "    }\n",
       "</style>\n",
       "<table border=\"1\" class=\"dataframe\">\n",
       "  <thead>\n",
       "    <tr style=\"text-align: right;\">\n",
       "      <th></th>\n",
       "      <th>y</th>\n",
       "      <th>text</th>\n",
       "      <th>lang</th>\n",
       "    </tr>\n",
       "  </thead>\n",
       "  <tbody>\n",
       "    <tr>\n",
       "      <th>1</th>\n",
       "      <td>ENTERTAINMENT</td>\n",
       "      <td>Will Smith Joins Diplo And Nicky Jam For The 2...</td>\n",
       "      <td>en</td>\n",
       "    </tr>\n",
       "    <tr>\n",
       "      <th>2</th>\n",
       "      <td>ENTERTAINMENT</td>\n",
       "      <td>Hugh Grant Marries For The First Time At Age 57</td>\n",
       "      <td>en</td>\n",
       "    </tr>\n",
       "    <tr>\n",
       "      <th>3</th>\n",
       "      <td>ENTERTAINMENT</td>\n",
       "      <td>Jim Carrey Blasts 'Castrato' Adam Schiff And D...</td>\n",
       "      <td>en</td>\n",
       "    </tr>\n",
       "    <tr>\n",
       "      <th>4</th>\n",
       "      <td>ENTERTAINMENT</td>\n",
       "      <td>Julianna Margulies Uses Donald Trump Poop Bags...</td>\n",
       "      <td>en</td>\n",
       "    </tr>\n",
       "    <tr>\n",
       "      <th>5</th>\n",
       "      <td>ENTERTAINMENT</td>\n",
       "      <td>Morgan Freeman 'Devastated' That Sexual Harass...</td>\n",
       "      <td>en</td>\n",
       "    </tr>\n",
       "  </tbody>\n",
       "</table>\n",
       "</div>"
      ],
      "text/plain": [
       "               y                                               text lang\n",
       "1  ENTERTAINMENT  Will Smith Joins Diplo And Nicky Jam For The 2...   en\n",
       "2  ENTERTAINMENT    Hugh Grant Marries For The First Time At Age 57   en\n",
       "3  ENTERTAINMENT  Jim Carrey Blasts 'Castrato' Adam Schiff And D...   en\n",
       "4  ENTERTAINMENT  Julianna Margulies Uses Donald Trump Poop Bags...   en\n",
       "5  ENTERTAINMENT  Morgan Freeman 'Devastated' That Sexual Harass...   en"
      ]
     },
     "execution_count": 28,
     "metadata": {},
     "output_type": "execute_result"
    }
   ],
   "source": [
    "dtf['lang'] = dtf[\"text\"].apply(lambda x: langdetect.detect(x) if \n",
    "                                 x.strip() != \"\" else \"\")\n",
    "\n",
    "dtf.head()"
   ]
  },
  {
   "cell_type": "code",
   "execution_count": 29,
   "metadata": {},
   "outputs": [],
   "source": [
    "dtf = dtf[dtf[\"lang\"]==\"en\"]"
   ]
  },
  {
   "cell_type": "code",
   "execution_count": 30,
   "metadata": {},
   "outputs": [
    {
     "ename": "SyntaxError",
     "evalue": "invalid syntax (<ipython-input-30-881652dd980f>, line 2)",
     "output_type": "error",
     "traceback": [
      "\u001b[1;36m  File \u001b[1;32m\"<ipython-input-30-881652dd980f>\"\u001b[1;36m, line \u001b[1;32m2\u001b[0m\n\u001b[1;33m    print(txt)print(\"--- cleaning ---\")\u001b[0m\n\u001b[1;37m                  ^\u001b[0m\n\u001b[1;31mSyntaxError\u001b[0m\u001b[1;31m:\u001b[0m invalid syntax\n"
     ]
    }
   ],
   "source": [
    "print(\"--- original ---\")\n",
    "print(txt)print(\"--- cleaning ---\")\n",
    "txt = re.sub(r'[^\\w\\s]', '', str(txt).lower().strip())\n",
    "print(txt)print(\"--- tokenization ---\")\n",
    "txt = txt.split()\n",
    "print(txt)"
   ]
  },
  {
   "cell_type": "code",
   "execution_count": null,
   "metadata": {},
   "outputs": [],
   "source": [
    "lst_stopwords = nltk.corpus.stopwords.words(\"english\")\n",
    "lst_stopwords"
   ]
  },
  {
   "cell_type": "code",
   "execution_count": null,
   "metadata": {},
   "outputs": [],
   "source": [
    "print(\"--- remove stopwords ---\")\n",
    "txt = [word for word in txt if word not in lst_stopwords]\n",
    "print(txt)"
   ]
  },
  {
   "cell_type": "code",
   "execution_count": null,
   "metadata": {},
   "outputs": [],
   "source": [
    "print(\"--- stemming ---\")\n",
    "ps = nltk.stem.porter.PorterStemmer()\n",
    "print([ps.stem(word) for word in txt])print(\"--- lemmatisation ---\")\n",
    "lem = nltk.stem.wordnet.WordNetLemmatizer()\n",
    "print([lem.lemmatize(word) for word in txt])"
   ]
  },
  {
   "cell_type": "code",
   "execution_count": null,
   "metadata": {},
   "outputs": [],
   "source": [
    "'''\n",
    "Preprocess a string.\n",
    ":parameter\n",
    "    :param text: string - name of column containing text\n",
    "    :param lst_stopwords: list - list of stopwords to remove\n",
    "    :param flg_stemm: bool - whether stemming is to be applied\n",
    "    :param flg_lemm: bool - whether lemmitisation is to be applied\n",
    ":return\n",
    "    cleaned text\n",
    "'''\n",
    "def utils_preprocess_text(text, flg_stemm=False, flg_lemm=True, lst_stopwords=None):\n",
    "    ## clean (convert to lowercase and remove punctuations and characters and then strip)\n",
    "    text = re.sub(r'[^\\w\\s]', '', str(text).lower().strip())\n",
    "            \n",
    "    ## Tokenize (convert from string to list)\n",
    "    lst_text = text.split()    ## remove Stopwords\n",
    "    if lst_stopwords is not None:\n",
    "        lst_text = [word for word in lst_text if word not in \n",
    "                    lst_stopwords]\n",
    "                \n",
    "    ## Stemming (remove -ing, -ly, ...)\n",
    "    if flg_stemm == True:\n",
    "        ps = nltk.stem.porter.PorterStemmer()\n",
    "        lst_text = [ps.stem(word) for word in lst_text]\n",
    "                \n",
    "    ## Lemmatisation (convert the word into root word)\n",
    "    if flg_lemm == True:\n",
    "        lem = nltk.stem.wordnet.WordNetLemmatizer()\n",
    "        lst_text = [lem.lemmatize(word) for word in lst_text]\n",
    "            \n",
    "    ## back to string from list\n",
    "    text = \" \".join(lst_text)\n",
    "    return text"
   ]
  },
  {
   "cell_type": "code",
   "execution_count": null,
   "metadata": {},
   "outputs": [],
   "source": [
    "dtf[\"text_clean\"] = dtf[\"text\"].apply(lambda x: utils_preprocess_text(x, flg_stemm=False, flg_lemm=True, lst_stopwords))"
   ]
  },
  {
   "cell_type": "code",
   "execution_count": null,
   "metadata": {},
   "outputs": [],
   "source": [
    "dtf.head()"
   ]
  },
  {
   "cell_type": "code",
   "execution_count": null,
   "metadata": {},
   "outputs": [],
   "source": [
    "print(dtf[\"text\"].iloc[0], \" --> \", dtf[\"text_clean\"].iloc[0])"
   ]
  },
  {
   "cell_type": "code",
   "execution_count": null,
   "metadata": {},
   "outputs": [],
   "source": [
    "dtf['word_count'] = dtf[\"text\"].apply(lambda x: len(str(x).split(\" \")))dtf['char_count'] = dtf[\"text\"].apply(lambda x: sum(len(word) for word in str(x).split(\" \")))dtf['sentence_count'] = dtf[\"text\"].apply(lambda x: len(str(x).split(\".\")))dtf['avg_word_length'] = dtf['char_count'] / dtf['word_count']dtf['avg_sentence_lenght'] = dtf['word_count'] / dtf['sentence_count']dtf.head()"
   ]
  },
  {
   "cell_type": "code",
   "execution_count": null,
   "metadata": {},
   "outputs": [],
   "source": [
    "x, y = \"char_count\", \"y\"fig, ax = plt.subplots(nrows=1, ncols=2)\n",
    "fig.suptitle(x, fontsize=12)\n",
    "for i in dtf[y].unique():\n",
    "    sns.distplot(dtf[dtf[y]==i][x], hist=True, kde=False, \n",
    "                 bins=10, hist_kws={\"alpha\":0.8}, \n",
    "                 axlabel=\"histogram\", ax=ax[0])\n",
    "    sns.distplot(dtf[dtf[y]==i][x], hist=False, kde=True, \n",
    "                 kde_kws={\"shade\":True}, axlabel=\"density\",   \n",
    "                 ax=ax[1])\n",
    "ax[0].grid(True)\n",
    "ax[0].legend(dtf[y].unique())\n",
    "ax[1].grid(True)\n",
    "plt.show()"
   ]
  },
  {
   "cell_type": "code",
   "execution_count": null,
   "metadata": {},
   "outputs": [],
   "source": [
    "x, y = \"char_count\", \"y\"fig, ax = plt.subplots(nrows=1, ncols=2)\n",
    "fig.suptitle(x, fontsize=12)\n",
    "for i in dtf[y].unique():\n",
    "    sns.distplot(dtf[dtf[y]==i][x], hist=True, kde=False, \n",
    "                 bins=10, hist_kws={\"alpha\":0.8}, \n",
    "                 axlabel=\"histogram\", ax=ax[0])\n",
    "    sns.distplot(dtf[dtf[y]==i][x], hist=False, kde=True, \n",
    "                 kde_kws={\"shade\":True}, axlabel=\"density\",   \n",
    "                 ax=ax[1])\n",
    "ax[0].grid(True)\n",
    "ax[0].legend(dtf[y].unique())\n",
    "ax[1].grid(True)\n",
    "plt.show()"
   ]
  },
  {
   "cell_type": "code",
   "execution_count": null,
   "metadata": {},
   "outputs": [],
   "source": [
    "print(dtf[\"text\"].iloc[0], \" --> \", dtf[\"sentiment\"].iloc[0])"
   ]
  },
  {
   "cell_type": "code",
   "execution_count": null,
   "metadata": {},
   "outputs": [],
   "source": [
    "## call model\n",
    "ner = spacy.load(\"en_core_web_lg\")## tag text\n",
    "txt = dtf[\"text\"].iloc[0]\n",
    "doc = ner(txt)## display result\n",
    "spacy.displacy.render(doc, style=\"ent\")"
   ]
  },
  {
   "cell_type": "code",
   "execution_count": 31,
   "metadata": {},
   "outputs": [
    {
     "ename": "NameError",
     "evalue": "name 'ner' is not defined",
     "output_type": "error",
     "traceback": [
      "\u001b[1;31m---------------------------------------------------------------------------\u001b[0m",
      "\u001b[1;31mNameError\u001b[0m                                 Traceback (most recent call last)",
      "\u001b[1;32m<ipython-input-31-bf5e6926b263>\u001b[0m in \u001b[0;36m<module>\u001b[1;34m\u001b[0m\n\u001b[0;32m      1\u001b[0m \u001b[1;31m## tag text and exctract tags into a list\u001b[0m\u001b[1;33m\u001b[0m\u001b[1;33m\u001b[0m\u001b[1;33m\u001b[0m\u001b[0m\n\u001b[1;32m----> 2\u001b[1;33m dtf[\"tags\"] = dtf[\"text\"].apply(lambda x: [(tag.text, tag.label_) \n\u001b[0m\u001b[0;32m      3\u001b[0m                                 for tag in ner(x).ents] )## utils function to count the element of a list\n\u001b[0;32m      4\u001b[0m \u001b[1;32mdef\u001b[0m \u001b[0mutils_lst_count\u001b[0m\u001b[1;33m(\u001b[0m\u001b[0mlst\u001b[0m\u001b[1;33m)\u001b[0m\u001b[1;33m:\u001b[0m\u001b[1;33m\u001b[0m\u001b[1;33m\u001b[0m\u001b[0m\n\u001b[0;32m      5\u001b[0m     \u001b[0mdic_counter\u001b[0m \u001b[1;33m=\u001b[0m \u001b[0mcollections\u001b[0m\u001b[1;33m.\u001b[0m\u001b[0mCounter\u001b[0m\u001b[1;33m(\u001b[0m\u001b[1;33m)\u001b[0m\u001b[1;33m\u001b[0m\u001b[1;33m\u001b[0m\u001b[0m\n",
      "\u001b[1;32mC:\\ProgramData\\Anaconda3\\lib\\site-packages\\pandas\\core\\series.py\u001b[0m in \u001b[0;36mapply\u001b[1;34m(self, func, convert_dtype, args, **kwds)\u001b[0m\n\u001b[0;32m   4106\u001b[0m             \u001b[1;32melse\u001b[0m\u001b[1;33m:\u001b[0m\u001b[1;33m\u001b[0m\u001b[1;33m\u001b[0m\u001b[0m\n\u001b[0;32m   4107\u001b[0m                 \u001b[0mvalues\u001b[0m \u001b[1;33m=\u001b[0m \u001b[0mself\u001b[0m\u001b[1;33m.\u001b[0m\u001b[0mastype\u001b[0m\u001b[1;33m(\u001b[0m\u001b[0mobject\u001b[0m\u001b[1;33m)\u001b[0m\u001b[1;33m.\u001b[0m\u001b[0m_values\u001b[0m\u001b[1;33m\u001b[0m\u001b[1;33m\u001b[0m\u001b[0m\n\u001b[1;32m-> 4108\u001b[1;33m                 \u001b[0mmapped\u001b[0m \u001b[1;33m=\u001b[0m \u001b[0mlib\u001b[0m\u001b[1;33m.\u001b[0m\u001b[0mmap_infer\u001b[0m\u001b[1;33m(\u001b[0m\u001b[0mvalues\u001b[0m\u001b[1;33m,\u001b[0m \u001b[0mf\u001b[0m\u001b[1;33m,\u001b[0m \u001b[0mconvert\u001b[0m\u001b[1;33m=\u001b[0m\u001b[0mconvert_dtype\u001b[0m\u001b[1;33m)\u001b[0m\u001b[1;33m\u001b[0m\u001b[1;33m\u001b[0m\u001b[0m\n\u001b[0m\u001b[0;32m   4109\u001b[0m \u001b[1;33m\u001b[0m\u001b[0m\n\u001b[0;32m   4110\u001b[0m         \u001b[1;32mif\u001b[0m \u001b[0mlen\u001b[0m\u001b[1;33m(\u001b[0m\u001b[0mmapped\u001b[0m\u001b[1;33m)\u001b[0m \u001b[1;32mand\u001b[0m \u001b[0misinstance\u001b[0m\u001b[1;33m(\u001b[0m\u001b[0mmapped\u001b[0m\u001b[1;33m[\u001b[0m\u001b[1;36m0\u001b[0m\u001b[1;33m]\u001b[0m\u001b[1;33m,\u001b[0m \u001b[0mSeries\u001b[0m\u001b[1;33m)\u001b[0m\u001b[1;33m:\u001b[0m\u001b[1;33m\u001b[0m\u001b[1;33m\u001b[0m\u001b[0m\n",
      "\u001b[1;32mpandas\\_libs\\lib.pyx\u001b[0m in \u001b[0;36mpandas._libs.lib.map_infer\u001b[1;34m()\u001b[0m\n",
      "\u001b[1;32m<ipython-input-31-bf5e6926b263>\u001b[0m in \u001b[0;36m<lambda>\u001b[1;34m(x)\u001b[0m\n\u001b[0;32m      1\u001b[0m \u001b[1;31m## tag text and exctract tags into a list\u001b[0m\u001b[1;33m\u001b[0m\u001b[1;33m\u001b[0m\u001b[1;33m\u001b[0m\u001b[0m\n\u001b[0;32m      2\u001b[0m dtf[\"tags\"] = dtf[\"text\"].apply(lambda x: [(tag.text, tag.label_) \n\u001b[1;32m----> 3\u001b[1;33m                                 for tag in ner(x).ents] )## utils function to count the element of a list\n\u001b[0m\u001b[0;32m      4\u001b[0m \u001b[1;32mdef\u001b[0m \u001b[0mutils_lst_count\u001b[0m\u001b[1;33m(\u001b[0m\u001b[0mlst\u001b[0m\u001b[1;33m)\u001b[0m\u001b[1;33m:\u001b[0m\u001b[1;33m\u001b[0m\u001b[1;33m\u001b[0m\u001b[0m\n\u001b[0;32m      5\u001b[0m     \u001b[0mdic_counter\u001b[0m \u001b[1;33m=\u001b[0m \u001b[0mcollections\u001b[0m\u001b[1;33m.\u001b[0m\u001b[0mCounter\u001b[0m\u001b[1;33m(\u001b[0m\u001b[1;33m)\u001b[0m\u001b[1;33m\u001b[0m\u001b[1;33m\u001b[0m\u001b[0m\n",
      "\u001b[1;31mNameError\u001b[0m: name 'ner' is not defined"
     ]
    }
   ],
   "source": [
    "## tag text and exctract tags into a list\n",
    "dtf[\"tags\"] = dtf[\"text\"].apply(lambda x: [(tag.text, tag.label_) \n",
    "                                for tag in ner(x).ents] )## utils function to count the element of a list\n",
    "def utils_lst_count(lst):\n",
    "    dic_counter = collections.Counter()\n",
    "    for x in lst:\n",
    "        dic_counter[x] += 1\n",
    "    dic_counter = collections.OrderedDict( \n",
    "                     sorted(dic_counter.items(), \n",
    "                     key=lambda x: x[1], reverse=True))\n",
    "    lst_count = [ {key:value} for key,value in dic_counter.items() ]\n",
    "    return lst_count\n",
    "## count tags\n",
    "dtf[\"tags\"] = dtf[\"tags\"].apply(lambda x: utils_lst_count(x))\n",
    "## utils function create new column for each tag category\n",
    "def utils_ner_features(lst_dics_tuples, tag):\n",
    "    if len(lst_dics_tuples) > 0:\n",
    "        tag_type = []\n",
    "        for dic_tuples in lst_dics_tuples:\n",
    "            for tuple in dic_tuples:\n",
    "                type, n = tuple[1], dic_tuples[tuple]\n",
    "                tag_type = tag_type + [type]*n\n",
    "                dic_counter = collections.Counter()\n",
    "                for x in tag_type:\n",
    "                    dic_counter[x] += 1\n",
    "        return dic_counter[tag]\n",
    "    else:\n",
    "        return 0\n",
    "## extract features\n",
    "tags_set = []\n",
    "for lst in dtf[\"tags\"].tolist():\n",
    "     for dic in lst:\n",
    "          for k in dic.keys():\n",
    "              tags_set.append(k[1])\n",
    "tags_set = list(set(tags_set))\n",
    "for feature in tags_set:\n",
    "     dtf[\"tags_\"+feature] = dtf[\"tags\"].apply(lambda x: \n",
    "                             utils_ner_features(x, feature))\n",
    "## print result\n",
    "dtf.head()"
   ]
  },
  {
   "cell_type": "code",
   "execution_count": 33,
   "metadata": {},
   "outputs": [
    {
     "data": {
      "image/png": "[encoded data removed]",
      "text/plain": [
       "<Figure size 432x288 with 1 Axes>"
      ]
     },
     "metadata": {
      "needs_background": "light"
     },
     "output_type": "display_data"
    }
   ],
   "source": [
    "wc = wordcloud.WordCloud(background_color='lightblue', max_words=100, \n",
    "                         max_font_size=35)\n",
    "wc = wc.generate(str(corpus))\n",
    "fig = plt.figure(num=1)\n",
    "plt.axis('off')\n",
    "plt.imshow(wc, cmap=None)\n",
    "plt.show()"
   ]
  },
  {
   "cell_type": "code",
   "execution_count": null,
   "metadata": {},
   "outputs": [],
   "source": [
    "# https://www.absentdata.com/python-graphs/python-word-frequency/"
   ]
  },
  {
   "cell_type": "code",
   "execution_count": 36,
   "metadata": {},
   "outputs": [],
   "source": [
    "# loading in all the essentials for data manipulation\n",
    "import pandas as pd\n",
    "import numpy as np\n",
    "#load inthe NTLK stopwords to remove articles, preposition and other words that are not actionable\n",
    "from nltk.corpus import stopwords\n",
    "# This allows to create individual objects from a bog of words\n",
    "from nltk.tokenize import word_tokenize\n",
    "# Lemmatizer helps to reduce words to the base form\n",
    "from nltk.stem import WordNetLemmatizer\n",
    "# Ngrams allows to group words in common pairs or trigrams..etc\n",
    "from nltk import ngrams\n",
    "# We can use counter to count the objects\n",
    "from collections import Counter\n",
    "# This is our visual library\n",
    "import seaborn as sns\n",
    "import matplotlib.pyplot as plt"
   ]
  },
  {
   "cell_type": "code",
   "execution_count": 38,
   "metadata": {},
   "outputs": [
    {
     "ename": "IndentationError",
     "evalue": "expected an indented block (<ipython-input-38-dfb01005917b>, line 3)",
     "output_type": "error",
     "traceback": [
      "\u001b[1;36m  File \u001b[1;32m\"<ipython-input-38-dfb01005917b>\"\u001b[1;36m, line \u001b[1;32m3\u001b[0m\n\u001b[1;33m    sentence = \" \".join(sentence)\u001b[0m\n\u001b[1;37m           ^\u001b[0m\n\u001b[1;31mIndentationError\u001b[0m\u001b[1;31m:\u001b[0m expected an indented block\n"
     ]
    }
   ],
   "source": [
    "def word_frequency(sentence):\n",
    "# joins all the sentenses\n",
    "sentence =\" \".join(sentence)\n",
    "# creates tokens, creates lower class, removes numbers and lemmatizes the words\n",
    "new_tokens = word_tokenize(sentence)\n",
    "new_tokens = [t.lower() for t in new_tokens]\n",
    "new_tokens =[t for t in new_tokens if t not in stopwords.words('english')]\n",
    "new_tokens = [t for t in new_tokens if t.isalpha()]\n",
    "lemmatizer = WordNetLemmatizer()\n",
    "new_tokens =[lemmatizer.lemmatize(t) for t in new_tokens]\n",
    "#counts the words, pairs and trigrams\n",
    "counted = Counter(new_tokens)\n",
    "counted_2= Counter(ngrams(new_tokens,2))\n",
    "counted_3= Counter(ngrams(new_tokens,3))\n",
    "#creates 3 data frames and returns thems\n",
    "word_freq = pd.DataFrame(counted.items(),columns=['word','frequency']).sort_values(by='frequency',ascending=False)\n",
    "word_pairs =pd.DataFrame(counted_2.items(),columns=['pairs','frequency']).sort_values(by='frequency',ascending=False)\n",
    "trigrams =pd.DataFrame(counted_3.items(),columns=['trigrams','frequency']).sort_values(by='frequency',ascending=False)\n",
    "return word_freq,word_pairs,trigrams"
   ]
  },
  {
   "cell_type": "code",
   "execution_count": 39,
   "metadata": {},
   "outputs": [
    {
     "name": "stdout",
     "output_type": "stream",
     "text": [
      "[(',', 32000), ('.', 17801), ('de', 11231), ('a', 7238), ('que', 5717), ('la', 4759), ('je', 4308), ('se', 4036), ('на', 3983), ('na', 3842)]\n"
     ]
    }
   ],
   "source": [
    "import urllib.request\n",
    "from collections import Counter\n",
    "\n",
    "import numpy as np \n",
    "\n",
    "from nltk import word_tokenize\n",
    "from sklearn.feature_extraction.text import CountVectorizer\n",
    "\n",
    "# Our sample textfile.\n",
    "url = 'https://raw.githubusercontent.com/Simdiva/DSL-Task/master/data/DSLCC-v2.0/test/test.txt'\n",
    "response = urllib.request.urlopen(url)\n",
    "data = response.read().decode('utf8')\n",
    "\n",
    "\n",
    "# Note that `ngram_range=(1, 1)` means we want to extract Unigrams, i.e. tokens.\n",
    "ngram_vectorizer = CountVectorizer(analyzer='word', tokenizer=word_tokenize, ngram_range=(1, 1), min_df=1)\n",
    "# X matrix where the row represents sentences and column is our one-hot vector for each token in our vocabulary\n",
    "X = ngram_vectorizer.fit_transform(data.split('\\n'))\n",
    "\n",
    "# Vocabulary\n",
    "vocab = list(ngram_vectorizer.get_feature_names())\n",
    "\n",
    "# Column-wise sum of the X matrix.\n",
    "# It's some crazy numpy syntax that looks horribly unpythonic\n",
    "# For details, see http://stackoverflow.com/questions/3337301/numpy-matrix-to-array\n",
    "# and http://stackoverflow.com/questions/13567345/how-to-calculate-the-sum-of-all-columns-of-a-2d-numpy-array-efficiently\n",
    "counts = X.sum(axis=0).A1\n",
    "\n",
    "freq_distribution = Counter(dict(zip(vocab, counts)))\n",
    "print (freq_distribution.most_common(10))"
   ]
  },
  {
   "cell_type": "code",
   "execution_count": 40,
   "metadata": {},
   "outputs": [],
   "source": [
    "from collections import Counter\n",
    "import numpy as np \n",
    "from nltk import word_tokenize\n",
    "from sklearn.feature_extraction.text import CountVectorizer\n",
    "\n",
    "def freq_dist(data):\n",
    "    \"\"\"\n",
    "    :param data: A string with sentences separated by '\\n'\n",
    "    :type data: str\n",
    "    \"\"\"\n",
    "    ngram_vectorizer = CountVectorizer(analyzer='word', tokenizer=word_tokenize, ngram_range=(1, 1), min_df=1)\n",
    "    X = ngram_vectorizer.fit_transform(data.split('\\n'))\n",
    "    vocab = list(ngram_vectorizer.get_feature_names())\n",
    "    counts = X.sum(axis=0).A1\n",
    "    return Counter(dict(zip(vocab, counts)))"
   ]
  },
  {
   "cell_type": "code",
   "execution_count": 41,
   "metadata": {},
   "outputs": [
    {
     "name": "stdout",
     "output_type": "stream",
     "text": [
      "3.831979751586914\n"
     ]
    }
   ],
   "source": [
    "import time\n",
    "\n",
    "start = time.time()\n",
    "word_distribution = freq_dist(data)\n",
    "print (time.time() - start)"
   ]
  },
  {
   "cell_type": "code",
   "execution_count": 43,
   "metadata": {},
   "outputs": [],
   "source": [
    "from sklearn.feature_extraction.text import CountVectorizer"
   ]
  },
  {
   "cell_type": "code",
   "execution_count": 45,
   "metadata": {},
   "outputs": [
    {
     "name": "stdout",
     "output_type": "stream",
     "text": [
      "{'am': 1, 'lot': 1, 'student': 2, 'suffers': 1, 'the': 1}\n"
     ]
    }
   ],
   "source": [
    "vectorizer = CountVectorizer()\n",
    "data=['i am student','the student suffers a lot']\n",
    "\n",
    "transformed_data =vectorizer.fit_transform(data)\n",
    "vocab= {a: b for a, b in zip(vectorizer.get_feature_names(), np.ravel(transformed_data.sum(axis=0)))}\n",
    "print (vocab)"
   ]
  },
  {
   "cell_type": "code",
   "execution_count": 55,
   "metadata": {},
   "outputs": [
    {
     "data": {
      "text/plain": [
       "[('coaching', 324),\n",
       " ('want', 311),\n",
       " ('people', 249),\n",
       " ('help', 225),\n",
       " ('life', 196),\n",
       " ('business', 172),\n",
       " ('like', 163),\n",
       " ('also', 151),\n",
       " ('would', 142),\n",
       " ('learn', 130),\n",
       " ('coach', 124),\n",
       " ('others', 123),\n",
       " ('get', 114),\n",
       " ('really', 103),\n",
       " ('online', 102),\n",
       " ('time', 101),\n",
       " ('something', 100),\n",
       " ('feel', 99),\n",
       " ('need', 96),\n",
       " ('community', 91),\n",
       " ('always', 90),\n",
       " ('work', 83),\n",
       " ('love', 81),\n",
       " ('wanted', 80),\n",
       " ('able', 80),\n",
       " ('know', 79),\n",
       " ('masters', 75),\n",
       " ('helping', 74),\n",
       " ('course', 73),\n",
       " ('become', 72)]"
      ]
     },
     "execution_count": 55,
     "metadata": {},
     "output_type": "execute_result"
    }
   ],
   "source": [
    "from collections import Counter\n",
    "from nltk.tokenize import RegexpTokenizer\n",
    "from nltk.corpus import stopwords\n",
    "\n",
    "text='''What were the main reasons you decided to join The Coaching Masters membership?\n",
    "\n",
    "\n",
    "'''\n",
    "\n",
    "# tokenize\n",
    "raw = ' '.join(word_tokenize(text.lower()))\n",
    "\n",
    "tokenizer = RegexpTokenizer(r'[A-Za-z]{2,}')\n",
    "words = tokenizer.tokenize(raw)\n",
    "\n",
    "# remove stopwords\n",
    "stop_words = set(stopwords.words('english'))\n",
    "words = [word for word in words if word not in stop_words]\n",
    "\n",
    "# count word frequency, sort and return just 50\n",
    "counter = Counter()\n",
    "counter.update(words)\n",
    "most_common = counter.most_common(30)\n",
    "most_common"
   ]
  },
  {
   "cell_type": "code",
   "execution_count": null,
   "metadata": {},
   "outputs": [],
   "source": []
  },
  {
   "cell_type": "code",
   "execution_count": 62,
   "metadata": {},
   "outputs": [],
   "source": [
    "import pandas as pd\n",
    "news= pd.read_csv('abcnews-date-text.csv',nrows=1000)"
   ]
  },
  {
   "cell_type": "code",
   "execution_count": 70,
   "metadata": {},
   "outputs": [],
   "source": [
    "# Code Snippet for Top Non-Stopwords Barchart\n",
    "\n",
    "import seaborn as sns\n",
    "from nltk.corpus import stopwords\n",
    "from collections import  Counter\n",
    "\n",
    "def plot_top_non_stopwords_barchart(text):\n",
    "    stop=set(stopwords.words('english'))\n",
    "    \n",
    "    new= text.str.split()\n",
    "    new=new.values.tolist()\n",
    "    corpus=[word for i in new for word in i]\n",
    "\n",
    "    counter=Counter(corpus)\n",
    "    most=counter.most_common()\n",
    "    x, y=[], []\n",
    "    for word,count in most[:30]:\n",
    "        if (word not in stop):\n",
    "            x.append(word)\n",
    "            y.append(count)\n",
    "            \n",
    "    sns.barplot(x=y,y=x)"
   ]
  },
  {
   "cell_type": "code",
   "execution_count": 71,
   "metadata": {},
   "outputs": [
    {
     "data": {
      "image/png": "[encoded data removed]",
      "text/plain": [
       "<Figure size 432x288 with 1 Axes>"
      ]
     },
     "metadata": {
      "needs_background": "light"
     },
     "output_type": "display_data"
    }
   ],
   "source": [
    "plot_top_non_stopwords_barchart(news['headline_text'])"
   ]
  },
  {
   "cell_type": "code",
   "execution_count": null,
   "metadata": {},
   "outputs": [],
   "source": []
  },
  {
   "cell_type": "code",
   "execution_count": 131,
   "metadata": {
    "scrolled": true
   },
   "outputs": [
    {
     "ename": "AttributeError",
     "evalue": "'DataFrame' object has no attribute 'str'",
     "output_type": "error",
     "traceback": [
      "\u001b[1;31m---------------------------------------------------------------------------\u001b[0m",
      "\u001b[1;31mAttributeError\u001b[0m                            Traceback (most recent call last)",
      "\u001b[1;32m<ipython-input-131-91ef6b3f987c>\u001b[0m in \u001b[0;36m<module>\u001b[1;34m\u001b[0m\n\u001b[0;32m     27\u001b[0m \u001b[1;33m\u001b[0m\u001b[0m\n\u001b[0;32m     28\u001b[0m \u001b[1;31m#1st\u001b[0m\u001b[1;33m\u001b[0m\u001b[1;33m\u001b[0m\u001b[1;33m\u001b[0m\u001b[0m\n\u001b[1;32m---> 29\u001b[1;33m \u001b[0mplot_top_non_stopwords_barchart\u001b[0m\u001b[1;33m(\u001b[0m\u001b[0minfo\u001b[0m\u001b[1;33m)\u001b[0m\u001b[1;33m\u001b[0m\u001b[1;33m\u001b[0m\u001b[0m\n\u001b[0m\u001b[0;32m     30\u001b[0m \u001b[1;33m\u001b[0m\u001b[0m\n",
      "\u001b[1;32m<ipython-input-131-91ef6b3f987c>\u001b[0m in \u001b[0;36mplot_top_non_stopwords_barchart\u001b[1;34m(text)\u001b[0m\n\u001b[0;32m     12\u001b[0m     \u001b[0mstop\u001b[0m\u001b[1;33m=\u001b[0m\u001b[0mset\u001b[0m\u001b[1;33m(\u001b[0m\u001b[0mstopwords\u001b[0m\u001b[1;33m.\u001b[0m\u001b[0mwords\u001b[0m\u001b[1;33m(\u001b[0m\u001b[1;34m'english'\u001b[0m\u001b[1;33m)\u001b[0m\u001b[1;33m)\u001b[0m\u001b[1;33m\u001b[0m\u001b[1;33m\u001b[0m\u001b[0m\n\u001b[0;32m     13\u001b[0m \u001b[1;33m\u001b[0m\u001b[0m\n\u001b[1;32m---> 14\u001b[1;33m     \u001b[0mnew\u001b[0m\u001b[1;33m=\u001b[0m \u001b[0mtext\u001b[0m\u001b[1;33m.\u001b[0m\u001b[0mstr\u001b[0m\u001b[1;33m.\u001b[0m\u001b[0msplit\u001b[0m\u001b[1;33m(\u001b[0m\u001b[1;33m)\u001b[0m\u001b[1;33m\u001b[0m\u001b[1;33m\u001b[0m\u001b[0m\n\u001b[0m\u001b[0;32m     15\u001b[0m     \u001b[0mnew\u001b[0m\u001b[1;33m=\u001b[0m\u001b[0mnew\u001b[0m\u001b[1;33m.\u001b[0m\u001b[0mvalues\u001b[0m\u001b[1;33m.\u001b[0m\u001b[0mtolist\u001b[0m\u001b[1;33m(\u001b[0m\u001b[1;33m)\u001b[0m\u001b[1;33m\u001b[0m\u001b[1;33m\u001b[0m\u001b[0m\n\u001b[0;32m     16\u001b[0m     \u001b[0mcorpus\u001b[0m\u001b[1;33m=\u001b[0m\u001b[1;33m[\u001b[0m\u001b[0mword\u001b[0m \u001b[1;32mfor\u001b[0m \u001b[0mi\u001b[0m \u001b[1;32min\u001b[0m \u001b[0mnew\u001b[0m \u001b[1;32mfor\u001b[0m \u001b[0mword\u001b[0m \u001b[1;32min\u001b[0m \u001b[0mi\u001b[0m\u001b[1;33m]\u001b[0m\u001b[1;33m\u001b[0m\u001b[1;33m\u001b[0m\u001b[0m\n",
      "\u001b[1;32mC:\\ProgramData\\Anaconda3\\lib\\site-packages\\pandas\\core\\generic.py\u001b[0m in \u001b[0;36m__getattr__\u001b[1;34m(self, name)\u001b[0m\n\u001b[0;32m   5460\u001b[0m             \u001b[1;32mif\u001b[0m \u001b[0mself\u001b[0m\u001b[1;33m.\u001b[0m\u001b[0m_info_axis\u001b[0m\u001b[1;33m.\u001b[0m\u001b[0m_can_hold_identifiers_and_holds_name\u001b[0m\u001b[1;33m(\u001b[0m\u001b[0mname\u001b[0m\u001b[1;33m)\u001b[0m\u001b[1;33m:\u001b[0m\u001b[1;33m\u001b[0m\u001b[1;33m\u001b[0m\u001b[0m\n\u001b[0;32m   5461\u001b[0m                 \u001b[1;32mreturn\u001b[0m \u001b[0mself\u001b[0m\u001b[1;33m[\u001b[0m\u001b[0mname\u001b[0m\u001b[1;33m]\u001b[0m\u001b[1;33m\u001b[0m\u001b[1;33m\u001b[0m\u001b[0m\n\u001b[1;32m-> 5462\u001b[1;33m             \u001b[1;32mreturn\u001b[0m \u001b[0mobject\u001b[0m\u001b[1;33m.\u001b[0m\u001b[0m__getattribute__\u001b[0m\u001b[1;33m(\u001b[0m\u001b[0mself\u001b[0m\u001b[1;33m,\u001b[0m \u001b[0mname\u001b[0m\u001b[1;33m)\u001b[0m\u001b[1;33m\u001b[0m\u001b[1;33m\u001b[0m\u001b[0m\n\u001b[0m\u001b[0;32m   5463\u001b[0m \u001b[1;33m\u001b[0m\u001b[0m\n\u001b[0;32m   5464\u001b[0m     \u001b[1;32mdef\u001b[0m \u001b[0m__setattr__\u001b[0m\u001b[1;33m(\u001b[0m\u001b[0mself\u001b[0m\u001b[1;33m,\u001b[0m \u001b[0mname\u001b[0m\u001b[1;33m:\u001b[0m \u001b[0mstr\u001b[0m\u001b[1;33m,\u001b[0m \u001b[0mvalue\u001b[0m\u001b[1;33m)\u001b[0m \u001b[1;33m->\u001b[0m \u001b[1;32mNone\u001b[0m\u001b[1;33m:\u001b[0m\u001b[1;33m\u001b[0m\u001b[1;33m\u001b[0m\u001b[0m\n",
      "\u001b[1;31mAttributeError\u001b[0m: 'DataFrame' object has no attribute 'str'"
     ]
    }
   ],
   "source": [
    "import pandas as pd\n",
    "info = pd.read_csv('test 2.csv')\n",
    "info = info.replace('\\n', '')\n",
    "info['txt'] = info['txt'].str.replace(r'time ', '')\n",
    "\n",
    "# Code Snippet for Top Non-Stopwords Barchart\n",
    "\n",
    "import seaborn as sns\n",
    "from nltk.corpus import stopwords\n",
    "from collections import  Counter\n",
    "\n",
    "def plot_top_non_stopwords_barchart(text):\n",
    "    stop=set(stopwords.words('english'))\n",
    "    \n",
    "    new= text.str.split()\n",
    "    new=new.values.tolist()\n",
    "    corpus=[word for i in new for word in i]\n",
    "\n",
    "    counter=Counter(corpus)\n",
    "    most=counter.most_common()\n",
    "    x, y=[], []\n",
    "    for word,count in most[:50]:\n",
    "        if (word not in stop):\n",
    "            x.append(word)\n",
    "            y.append(count)\n",
    "            \n",
    "    sns.barplot(x=y,y=x)\n",
    "\n",
    "#1st\n",
    "plot_top_non_stopwords_barchart(info ['txt'])\n",
    "\n"
   ]
  },
  {
   "cell_type": "code",
   "execution_count": null,
   "metadata": {},
   "outputs": [],
   "source": []
  },
  {
   "cell_type": "code",
   "execution_count": 127,
   "metadata": {},
   "outputs": [
    {
     "ename": "IndentationError",
     "evalue": "expected an indented block (<ipython-input-127-7f72163ad76e>, line 25)",
     "output_type": "error",
     "traceback": [
      "\u001b[1;36m  File \u001b[1;32m\"<ipython-input-127-7f72163ad76e>\"\u001b[1;36m, line \u001b[1;32m25\u001b[0m\n\u001b[1;33m    tokens[i] = tokens[i].lower()\u001b[0m\n\u001b[1;37m         ^\u001b[0m\n\u001b[1;31mIndentationError\u001b[0m\u001b[1;31m:\u001b[0m expected an indented block\n"
     ]
    }
   ],
   "source": [
    "\n",
    "\n",
    "# Python program to generate WordCloud \n",
    "  \n",
    "# importing all necessery modules \n",
    "from wordcloud import WordCloud, STOPWORDS \n",
    "import matplotlib.pyplot as plt \n",
    "import pandas as pd \n",
    "  \n",
    "# Reads 'Youtube04-Eminem.csv' file  \n",
    "df = pd.read_csv(r\"test.csv\", encoding =\"latin-1\") \n",
    "  \n",
    "comment_words = '' \n",
    "stopwords = set(STOPWORDS) \n",
    "  \n",
    "# iterate through the csv file \n",
    "for val in df.CONTENT: \n",
    "  \n",
    " # typecaste each val to string \n",
    " val = str(val) \n",
    "  \n",
    " # split the value \n",
    " tokens = val.split() \n",
    "  \n",
    " # Converts each token into lowercase \n",
    " for i in range(len(tokens)): \n",
    " tokens[i] = tokens[i].lower() \n",
    "  \n",
    " comment_words += \" \".join(tokens)+\" \"\n",
    "  \n",
    "wordcloud = WordCloud(width = 800, height = 800, \n",
    " background_color ='white', \n",
    " stopwords = stopwords, \n",
    " min_font_size = 10).generate(comment_words) \n"
   ]
  },
  {
   "cell_type": "code",
   "execution_count": null,
   "metadata": {},
   "outputs": [],
   "source": []
  },
  {
   "cell_type": "code",
   "execution_count": null,
   "metadata": {},
   "outputs": [],
   "source": []
  },
  {
   "cell_type": "code",
   "execution_count": null,
   "metadata": {},
   "outputs": [],
   "source": []
  },
  {
   "cell_type": "code",
   "execution_count": null,
   "metadata": {},
   "outputs": [],
   "source": []
  },
  {
   "cell_type": "code",
   "execution_count": null,
   "metadata": {},
   "outputs": [],
   "source": [
    "  \n",
    "\n",
    "    \n",
    "    \n",
    "    \n",
    "# Import package\n",
    "from wordcloud import WordCloud, STOPWORDS\n",
    "\n",
    "# Generate word cloud\n",
    "wordcloud = WordCloud(width = 3000, height = 2000, random_state=1, background_color='salmon', colormap='Pastel1', collocations=False, stopwords = STOPWORDS).generate(info['txt'])\n",
    "\n",
    "# Plot\n",
    "plot_cloud(wordcloud)\n",
    "\n"
   ]
  },
  {
   "cell_type": "code",
   "execution_count": null,
   "metadata": {},
   "outputs": [],
   "source": []
  },
  {
   "cell_type": "code",
   "execution_count": null,
   "metadata": {},
   "outputs": [],
   "source": [
    "# https://medium.com/analytics-vidhya/visualizing-phrase-prominence-and-category-association-with-scattertext-and-pytextrank-f7a5f036d4d2"
   ]
  },
  {
   "cell_type": "code",
   "execution_count": null,
   "metadata": {},
   "outputs": [],
   "source": []
  },
  {
   "cell_type": "code",
   "execution_count": null,
   "metadata": {},
   "outputs": [],
   "source": []
  },
  {
   "cell_type": "code",
   "execution_count": null,
   "metadata": {},
   "outputs": [],
   "source": []
  },
  {
   "cell_type": "code",
   "execution_count": null,
   "metadata": {},
   "outputs": [],
   "source": []
  },
  {
   "cell_type": "code",
   "execution_count": null,
   "metadata": {},
   "outputs": [],
   "source": []
  },
  {
   "cell_type": "code",
   "execution_count": null,
   "metadata": {},
   "outputs": [],
   "source": []
  }
 ],
 "metadata": {
  "kernelspec": {
   "display_name": "Python 3",
   "language": "python",
   "name": "python3"
  },
  "language_info": {
   "codemirror_mode": {
    "name": "ipython",
    "version": 3
   },
   "file_extension": ".py",
   "mimetype": "text/x-python",
   "name": "python",
   "nbconvert_exporter": "python",
   "pygments_lexer": "ipython3",
   "version": "3.7.6"
  },
  "varInspector": {
   "cols": {
    "lenName": 16,
    "lenType": 16,
    "lenVar": 40
   },
   "kernels_config": {
    "python": {
     "delete_cmd_postfix": "",
     "delete_cmd_prefix": "del ",
     "library": "var_list.py",
     "varRefreshCmd": "print(var_dic_list())"
    },
    "r": {
     "delete_cmd_postfix": ") ",
     "delete_cmd_prefix": "rm(",
     "library": "var_list.r",
     "varRefreshCmd": "cat(var_dic_list()) "
    }
   },
   "types_to_exclude": [
    "module",
    "function",
    "builtin_function_or_method",
    "instance",
    "_Feature"
   ],
   "window_display": false
  }
 },
 "nbformat": 4,
 "nbformat_minor": 4
}
